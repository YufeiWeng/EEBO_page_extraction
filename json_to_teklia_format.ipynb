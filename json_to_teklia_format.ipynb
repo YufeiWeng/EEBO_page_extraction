{
 "cells": [
  {
   "cell_type": "code",
   "execution_count": 3,
   "metadata": {},
   "outputs": [],
   "source": [
    "import os\n",
    "def find_image_file(base_path, file_name_without_extension):\n",
    "    # Define the possible image extensions\n",
    "    image_extensions = ['.jpg', '.png', '.JPG', '.tif']\n",
    "    \n",
    "    # Search for image files with the specified base name and extensions\n",
    "    for extension in image_extensions:\n",
    "        # Build the path for the image file\n",
    "        image_path = os.path.join(base_path, file_name_without_extension + extension)\n",
    "        if os.path.exists(image_path):\n",
    "            return image_path  # Return the image path if file exists\n",
    "\n",
    "    return None  # If no image file is found"
   ]
  },
  {
   "cell_type": "code",
   "execution_count": 4,
   "metadata": {},
   "outputs": [
    {
     "name": "stderr",
     "output_type": "stream",
     "text": [
      "Processing JSON files: 100%|██████████| 45/45 [00:09<00:00,  4.81it/s]"
     ]
    },
    {
     "name": "stdout",
     "output_type": "stream",
     "text": [
      "All files processed.\n"
     ]
    },
    {
     "name": "stderr",
     "output_type": "stream",
     "text": [
      "\n"
     ]
    }
   ],
   "source": [
    "import os\n",
    "from pathlib import Path\n",
    "import cv2\n",
    "import json\n",
    "from tqdm import tqdm\n",
    "\n",
    "# Directory paths\n",
    "json_dir = \"/trunk2/yufei/datasets/jsons/test\"\n",
    "image_dir = \"/trunk2/yufei/datasets/pictures/test\"\n",
    "output_dir = \"/trunk2/yufei/arabic_ms_data_to_teklia/teklia/ground_true\"\n",
    "\n",
    "# Ensure the output directory exists\n",
    "os.makedirs(output_dir, exist_ok=True)\n",
    "\n",
    "# List all JSON files in the directory\n",
    "json_files = list(Path(json_dir).rglob('*.json'))\n",
    "\n",
    "# Helper function to find corresponding image file\n",
    "def find_image_file(base_path, file_name_without_extension):\n",
    "    image_extensions = ['.jpg', '.png', '.JPG', '.tif']\n",
    "    for extension in image_extensions:\n",
    "        image_path = os.path.join(base_path, file_name_without_extension + extension)\n",
    "        if os.path.exists(image_path):\n",
    "            return image_path\n",
    "    return None\n",
    "\n",
    "# Process each JSON file\n",
    "for json_file_path in tqdm(json_files, desc='Processing JSON files'):\n",
    "    with open(str(json_file_path), 'r') as f:\n",
    "        annotations_data = json.load(f)\n",
    "\n",
    "    record = {'img_size': [], 'text_line': []}\n",
    "    file_name_without_extension = json_file_path.stem\n",
    "    image_file = find_image_file(image_dir, file_name_without_extension)\n",
    "\n",
    "    if image_file is None:\n",
    "        print(f\"No image found for {json_file_path.name}, skipping.\")\n",
    "        continue\n",
    "\n",
    "    image = cv2.imread(image_file)\n",
    "    height, width = image.shape[:2]\n",
    "    # Swap the width and height for the 'img_size'\n",
    "    record['img_size'] = [height, width]\n",
    "\n",
    "    for annotation in annotations_data:\n",
    "        if 'polygon' in annotation and 'confidence' in annotation:\n",
    "            # Swap the x and y coordinates for each point in the polygon\n",
    "            swapped_polygon = [[point[1], point[0]] for point in annotation['polygon']]\n",
    "            text_line_entry = {\n",
    "                'confidence': annotation['confidence'],\n",
    "                # Ensure the polygon is closed by repeating the first point\n",
    "                'polygon': swapped_polygon + [swapped_polygon[0]] if swapped_polygon else []\n",
    "            }\n",
    "            record['text_line'].append(text_line_entry)\n",
    "\n",
    "    output_path = os.path.join(output_dir, file_name_without_extension + '.json')\n",
    "    with open(output_path, 'w') as outfile:\n",
    "        json.dump(record, outfile, indent=4)\n",
    "\n",
    "print(\"All files processed.\")\n"
   ]
  }
 ],
 "metadata": {
  "kernelspec": {
   "display_name": "lacuna",
   "language": "python",
   "name": "python3"
  },
  "language_info": {
   "codemirror_mode": {
    "name": "ipython",
    "version": 3
   },
   "file_extension": ".py",
   "mimetype": "text/x-python",
   "name": "python",
   "nbconvert_exporter": "python",
   "pygments_lexer": "ipython3",
   "version": "3.8.19"
  }
 },
 "nbformat": 4,
 "nbformat_minor": 2
}
